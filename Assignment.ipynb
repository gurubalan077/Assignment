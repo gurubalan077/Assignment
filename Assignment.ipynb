{
 "cells": [
  {
   "cell_type": "markdown",
   "id": "da6c049a",
   "metadata": {},
   "source": [
    "# sample mean "
   ]
  },
  {
   "cell_type": "code",
   "execution_count": 1,
   "id": "203be895",
   "metadata": {},
   "outputs": [
    {
     "name": "stdout",
     "output_type": "stream",
     "text": [
      "Sample Mean (Point Estimate): 35.0\n"
     ]
    }
   ],
   "source": [
    "def calculate_sample_mean(data):\n",
    "   \n",
    "    if not data:\n",
    "        raise ValueError(\"Input data is empty. Cannot calculate sample mean.\")\n",
    "\n",
    "   \n",
    "    sample_mean = sum(data) / len(data)\n",
    "\n",
    "    return sample_mean\n",
    "\n",
    "sample_data = [25, 30, 35, 40, 45]\n",
    "point_estimate = calculate_sample_mean(sample_data)\n",
    "\n",
    "print(f\"Sample Mean (Point Estimate): {point_estimate}\")\n"
   ]
  },
  {
   "cell_type": "code",
   "execution_count": 2,
   "id": "3b0de21f",
   "metadata": {},
   "outputs": [
    {
     "data": {
      "text/plain": [
       "35.0"
      ]
     },
     "execution_count": 2,
     "metadata": {},
     "output_type": "execute_result"
    }
   ],
   "source": [
    "calculate_sample_mean(sample_data)"
   ]
  },
  {
   "cell_type": "markdown",
   "id": "046d6e03",
   "metadata": {},
   "source": [
    "# Confidence interval"
   ]
  },
  {
   "cell_type": "code",
   "execution_count": 3,
   "id": "7f2309d0",
   "metadata": {},
   "outputs": [
    {
     "name": "stdout",
     "output_type": "stream",
     "text": [
      "Confidence Interval (95.0%): [27.683428461361956, 47.316571538638044]\n"
     ]
    }
   ],
   "source": [
    "import numpy as np\n",
    "from scipy import stats\n",
    "\n",
    "def calculate_confidence_interval(data, confidence_level=0.95):\n",
    "    \n",
    "    if not data:\n",
    "        raise ValueError(\"Input data is empty. Cannot calculate confidence interval.\")\n",
    "\n",
    "    mean = np.mean(data)\n",
    "    std_error = stats.sem(data)\n",
    "\n",
    "    df = len(data) - 1\n",
    "\n",
    "    t_value = stats.t.ppf((1 + confidence_level) / 2, df)\n",
    "    margin_of_error = t_value * std_error\n",
    "\n",
    "    lower_bound = mean - margin_of_error\n",
    "    upper_bound = mean + margin_of_error\n",
    "\n",
    "    return lower_bound, upper_bound\n",
    "\n",
    "data = [25, 30, 35, 40, 45, 50]\n",
    "confidence_level = 0.95\n",
    "lower, upper = calculate_confidence_interval(data, confidence_level)\n",
    "\n",
    "print(f\"Confidence Interval ({confidence_level*100}%): [{lower}, {upper}]\")\n"
   ]
  },
  {
   "cell_type": "markdown",
   "id": "636dd073",
   "metadata": {},
   "source": [
    "# T-test"
   ]
  },
  {
   "cell_type": "code",
   "execution_count": 4,
   "id": "7435716b",
   "metadata": {},
   "outputs": [
    {
     "name": "stdout",
     "output_type": "stream",
     "text": [
      " T-test Results:\n",
      " T-statistic: -4.512913234547577\n",
      " P-value: 3.176506547469905e-05\n",
      "Reject the null hypothesis. There is a significant difference between the means of the two groups.\n"
     ]
    }
   ],
   "source": [
    "import numpy as np\n",
    "from scipy import stats\n",
    "\n",
    "np.random.seed(42) \n",
    "custom_group1 = np.random.normal(loc=70, scale=5, size=30)\n",
    "custom_group2 = np.random.normal(loc=75, scale=5, size=30)\n",
    "\n",
    "custom_t_statistic, custom_p_value = stats.ttest_ind(custom_group1, custom_group2)\n",
    "\n",
    "custom_alpha = 0.05\n",
    "\n",
    "print(\" T-test Results:\")\n",
    "print(\" T-statistic:\", custom_t_statistic)\n",
    "print(\" P-value:\", custom_p_value)\n",
    "\n",
    "if custom_p_value < custom_alpha:\n",
    "    print(\"Reject the null hypothesis. There is a significant difference between the means of the two groups.\")\n",
    "else:\n",
    "    print(\"Fail to reject the null hypothesis. There is no significant difference between the means of the two groups.\")\n"
   ]
  },
  {
   "cell_type": "markdown",
   "id": "6f27b36e",
   "metadata": {},
   "source": [
    "# tailed Test"
   ]
  },
  {
   "cell_type": "code",
   "execution_count": 5,
   "id": "36113e69",
   "metadata": {},
   "outputs": [
    {
     "name": "stdout",
     "output_type": "stream",
     "text": [
      " Two-tailed Test:\n",
      " T-statistic: 0.4988267110233233\n",
      " P-value: 0.6239425605002512\n",
      "\n",
      " One-tailed Test (Right-tailed):\n",
      " T-statistic: 0.4988267110233233\n",
      " P-value: 0.3119712802501256\n",
      "\n",
      "One-tailed Test (Left-tailed):\n",
      "T-statistic: 0.4988267110233233\n",
      "P-value: 0.6880287197498745\n"
     ]
    }
   ],
   "source": [
    "import numpy as np\n",
    "from scipy import stats\n",
    "\n",
    "custom_group1 = np.array([22, 24, 28, 30, 32, 35, 38, 40, 42, 45])\n",
    "custom_group2 = np.array([20, 23, 26, 29, 31, 33, 36, 38, 40, 43])\n",
    "\n",
    "custom_t_statistic_2tail, custom_p_value_2tail = stats.ttest_ind(custom_group1, custom_group2)\n",
    "\n",
    "custom_t_statistic_1tail_right, custom_p_value_1tail_right = stats.ttest_ind(custom_group1, custom_group2, alternative='greater')\n",
    "\n",
    "custom_t_statistic_1tail_left, custom_p_value_1tail_left = stats.ttest_ind(custom_group1, custom_group2, alternative='less')\n",
    "\n",
    "print(\" Two-tailed Test:\")\n",
    "print(\" T-statistic:\", custom_t_statistic_2tail)\n",
    "print(\" P-value:\", custom_p_value_2tail)\n",
    "\n",
    "print(\"\\n One-tailed Test (Right-tailed):\")\n",
    "print(\" T-statistic:\", custom_t_statistic_1tail_right)\n",
    "print(\" P-value:\", custom_p_value_1tail_right)\n",
    "\n",
    "print(\"\\nOne-tailed Test (Left-tailed):\")\n",
    "print(\"T-statistic:\", custom_t_statistic_1tail_left)\n",
    "print(\"P-value:\", custom_p_value_1tail_left)\n"
   ]
  },
  {
   "cell_type": "code",
   "execution_count": null,
   "id": "253bb450",
   "metadata": {},
   "outputs": [],
   "source": []
  }
 ],
 "metadata": {
  "kernelspec": {
   "display_name": "Python 3 (ipykernel)",
   "language": "python",
   "name": "python3"
  },
  "language_info": {
   "codemirror_mode": {
    "name": "ipython",
    "version": 3
   },
   "file_extension": ".py",
   "mimetype": "text/x-python",
   "name": "python",
   "nbconvert_exporter": "python",
   "pygments_lexer": "ipython3",
   "version": "3.11.5"
  }
 },
 "nbformat": 4,
 "nbformat_minor": 5
}
